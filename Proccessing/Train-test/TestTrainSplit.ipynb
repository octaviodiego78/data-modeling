{
 "cells": [
  {
   "cell_type": "markdown",
   "metadata": {},
   "source": [
    "___\n",
    "<img style=\"float: right; margin: 0px 0px 15px 15px;\" src=\"data:image/png;base64,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\" width=\"350px\" height=\"180px\" />\n",
    "\n",
    "\n",
    "# <font color= #8A0829> Data modelling lab </font>\n",
    "\n",
    "- <Strong> Teacher: Sara Eugenia Rodríguez </Strong>\n",
    "- <Strong> Year: </Strong>: 2023\n",
    "- <Strong> Teacher email: </Strong>  <font color=\"blue\"> `cd682324@iteso.mx` </font>\n",
    "___\n",
    "\n",
    "\n",
    "### <font color= #2E9AFE> Topic: Train and validation</font>"
   ]
  },
  {
   "cell_type": "markdown",
   "metadata": {},
   "source": [
    "It works when you have enough data to train the model after making train-test split\n",
    "\n",
    "**What to do if you don't have enough data**\n",
    "\n",
    "K-fold cross-validation is an alternative process\n",
    "\n",
    "\n",
    "**So... when to use train-test split**\n",
    "\n",
    "- Is not expensive to train the model\n",
    "- When we have a lot of data\n",
    "- If we need to estimate the performance rapidly\n",
    "\n",
    "#### <font color= #2E9AFE> Configuration</font>\n",
    "\n",
    "\n",
    "Most common separations\n",
    "- Train: 80%, Test: 20%\n",
    "- Train: 70%, Test: 30%\n",
    "- Train: 50%, Test: 50%\n"
   ]
  },
  {
   "cell_type": "code",
   "execution_count": 28,
   "metadata": {},
   "outputs": [],
   "source": [
    "\n",
    "from sklearn.datasets import make_blobs\n",
    "from sklearn.model_selection import train_test_split\n",
    "import pandas as pd\n",
    "import numpy as np\n",
    "import matplotlib.pyplot as plt\n",
    "\n",
    "# Create fake data\n",
    "X, y = make_blobs(n_samples=1000, n_features=1)"
   ]
  },
  {
   "cell_type": "code",
   "execution_count": 29,
   "metadata": {},
   "outputs": [
    {
     "data": {
      "text/html": [
       "<div>\n",
       "<style scoped>\n",
       "    .dataframe tbody tr th:only-of-type {\n",
       "        vertical-align: middle;\n",
       "    }\n",
       "\n",
       "    .dataframe tbody tr th {\n",
       "        vertical-align: top;\n",
       "    }\n",
       "\n",
       "    .dataframe thead th {\n",
       "        text-align: right;\n",
       "    }\n",
       "</style>\n",
       "<table border=\"1\" class=\"dataframe\">\n",
       "  <thead>\n",
       "    <tr style=\"text-align: right;\">\n",
       "      <th></th>\n",
       "      <th>X</th>\n",
       "      <th>y</th>\n",
       "    </tr>\n",
       "  </thead>\n",
       "  <tbody>\n",
       "    <tr>\n",
       "      <th>0</th>\n",
       "      <td>1.973913</td>\n",
       "      <td>1.0</td>\n",
       "    </tr>\n",
       "    <tr>\n",
       "      <th>1</th>\n",
       "      <td>0.061871</td>\n",
       "      <td>1.0</td>\n",
       "    </tr>\n",
       "    <tr>\n",
       "      <th>2</th>\n",
       "      <td>1.332130</td>\n",
       "      <td>1.0</td>\n",
       "    </tr>\n",
       "    <tr>\n",
       "      <th>3</th>\n",
       "      <td>-7.755680</td>\n",
       "      <td>0.0</td>\n",
       "    </tr>\n",
       "    <tr>\n",
       "      <th>4</th>\n",
       "      <td>6.652412</td>\n",
       "      <td>2.0</td>\n",
       "    </tr>\n",
       "  </tbody>\n",
       "</table>\n",
       "</div>"
      ],
      "text/plain": [
       "          X    y\n",
       "0  1.973913  1.0\n",
       "1  0.061871  1.0\n",
       "2  1.332130  1.0\n",
       "3 -7.755680  0.0\n",
       "4  6.652412  2.0"
      ]
     },
     "execution_count": 29,
     "metadata": {},
     "output_type": "execute_result"
    }
   ],
   "source": [
    "datos = pd.DataFrame(np.column_stack((X,y)), columns=['X','y'])\n",
    "datos.head()"
   ]
  },
  {
   "cell_type": "code",
   "execution_count": 30,
   "metadata": {},
   "outputs": [
    {
     "data": {
      "text/plain": [
       "0.0    334\n",
       "1.0    333\n",
       "2.0    333\n",
       "Name: y, dtype: int64"
      ]
     },
     "execution_count": 30,
     "metadata": {},
     "output_type": "execute_result"
    }
   ],
   "source": [
    "datos.y.value_counts()"
   ]
  },
  {
   "cell_type": "code",
   "execution_count": 31,
   "metadata": {},
   "outputs": [
    {
     "data": {
      "text/plain": [
       "(1000, 2)"
      ]
     },
     "execution_count": 31,
     "metadata": {},
     "output_type": "execute_result"
    }
   ],
   "source": [
    "#Data shape\n",
    "datos.shape"
   ]
  },
  {
   "cell_type": "code",
   "execution_count": 32,
   "metadata": {},
   "outputs": [
    {
     "name": "stdout",
     "output_type": "stream",
     "text": [
      "Tamaño de X entrenamiento: (700, 1)\n",
      "Tamaño de X prueba: (300, 1)\n",
      "Tamaño de y entrenamiento: (700,)\n",
      "Tamaño de y prueba: (300,)\n"
     ]
    }
   ],
   "source": [
    "# Split into train test\n",
    "X_train, X_test, y_train, y_test = train_test_split(X, y, test_size=0.3)\n",
    "\n",
    "\n",
    "print(\"Tamaño de X entrenamiento:\",X_train.shape)\n",
    "print(\"Tamaño de X prueba:\",X_test.shape)\n",
    "print(\"Tamaño de y entrenamiento:\",y_train.shape)\n",
    "print(\"Tamaño de y prueba:\",y_test.shape)\n"
   ]
  },
  {
   "cell_type": "code",
   "execution_count": 33,
   "metadata": {},
   "outputs": [
    {
     "data": {
      "text/plain": [
       "array([[ 2.3078646 ],\n",
       "       [-7.12754711],\n",
       "       [-7.48137537],\n",
       "       [ 4.67805697],\n",
       "       [ 5.02282727]])"
      ]
     },
     "execution_count": 33,
     "metadata": {},
     "output_type": "execute_result"
    }
   ],
   "source": [
    "X_train[:5,:]"
   ]
  },
  {
   "cell_type": "code",
   "execution_count": 34,
   "metadata": {},
   "outputs": [
    {
     "name": "stdout",
     "output_type": "stream",
     "text": [
      "Tamaño de X entrenamiento: (700, 1)\n",
      "Tamaño de X prueba: (300, 1)\n",
      "Tamaño de y entrenamiento: (700,)\n",
      "Tamaño de y prueba: (300,)\n"
     ]
    }
   ],
   "source": [
    "# Train test split with seed\n",
    "X_train, X_test, y_train, y_test = train_test_split(X, y, test_size=0.3, random_state=42)\n",
    "\n",
    "\n",
    "print(\"Tamaño de X entrenamiento:\",X_train.shape)\n",
    "print(\"Tamaño de X prueba:\",X_test.shape)\n",
    "print(\"Tamaño de y entrenamiento:\",y_train.shape)\n",
    "print(\"Tamaño de y prueba:\",y_test.shape)\n"
   ]
  },
  {
   "cell_type": "code",
   "execution_count": 35,
   "metadata": {},
   "outputs": [
    {
     "data": {
      "text/plain": [
       "array([[-5.01134647],\n",
       "       [-5.01404106],\n",
       "       [ 0.04167644],\n",
       "       [-0.06805508],\n",
       "       [ 0.04115285]])"
      ]
     },
     "execution_count": 35,
     "metadata": {},
     "output_type": "execute_result"
    }
   ],
   "source": [
    "X_train[:5,:]"
   ]
  },
  {
   "cell_type": "markdown",
   "metadata": {},
   "source": [
    "#### <font color= #2E9AFE> Stratified split</font>\n",
    "\n",
    "**For classification problems**\n",
    "\n",
    "\n",
    "Most classification problems don't have a balanced amount of data for each class\n",
    "Therefore, it's desirable to split the data in a way it keeps the same data proportion of each class from the original dataset\n",
    " \n",
    "That's when we used stratified split"
   ]
  },
  {
   "cell_type": "code",
   "execution_count": 36,
   "metadata": {},
   "outputs": [
    {
     "data": {
      "image/png": "[encoded data removed]",
      "text/plain": [
       "<Figure size 640x480 with 1 Axes>"
      ]
     },
     "metadata": {},
     "output_type": "display_data"
    }
   ],
   "source": [
    "#Creating imbalanced data\n",
    "X, y = make_blobs(n_samples=[400,50], centers=None, cluster_std=[10.0, 2],random_state=22,n_features=2)\n",
    "\n",
    "Zero0=np.where(y == 0)[0]\n",
    "One1=np.where(y == 1)[0]\n",
    "\n",
    "plt.scatter(X[Zero0,0],X[Zero0,1],color=['red'])\n",
    "plt.scatter(X[One1,0],X[One1,1],color=['green'])\n",
    "plt.show()"
   ]
  },
  {
   "cell_type": "code",
   "execution_count": 37,
   "metadata": {},
   "outputs": [
    {
     "data": {
      "text/html": [
       "<div>\n",
       "<style scoped>\n",
       "    .dataframe tbody tr th:only-of-type {\n",
       "        vertical-align: middle;\n",
       "    }\n",
       "\n",
       "    .dataframe tbody tr th {\n",
       "        vertical-align: top;\n",
       "    }\n",
       "\n",
       "    .dataframe thead th {\n",
       "        text-align: right;\n",
       "    }\n",
       "</style>\n",
       "<table border=\"1\" class=\"dataframe\">\n",
       "  <thead>\n",
       "    <tr style=\"text-align: right;\">\n",
       "      <th></th>\n",
       "      <th>0</th>\n",
       "      <th>1</th>\n",
       "    </tr>\n",
       "  </thead>\n",
       "  <tbody>\n",
       "    <tr>\n",
       "      <th>0</th>\n",
       "      <td>-13.661564</td>\n",
       "      <td>-1.570388</td>\n",
       "    </tr>\n",
       "    <tr>\n",
       "      <th>1</th>\n",
       "      <td>7.690015</td>\n",
       "      <td>3.856342</td>\n",
       "    </tr>\n",
       "    <tr>\n",
       "      <th>2</th>\n",
       "      <td>-0.408269</td>\n",
       "      <td>4.988843</td>\n",
       "    </tr>\n",
       "    <tr>\n",
       "      <th>3</th>\n",
       "      <td>-5.948700</td>\n",
       "      <td>18.126090</td>\n",
       "    </tr>\n",
       "    <tr>\n",
       "      <th>4</th>\n",
       "      <td>-19.680768</td>\n",
       "      <td>-12.701575</td>\n",
       "    </tr>\n",
       "    <tr>\n",
       "      <th>...</th>\n",
       "      <td>...</td>\n",
       "      <td>...</td>\n",
       "    </tr>\n",
       "    <tr>\n",
       "      <th>445</th>\n",
       "      <td>0.214123</td>\n",
       "      <td>1.783123</td>\n",
       "    </tr>\n",
       "    <tr>\n",
       "      <th>446</th>\n",
       "      <td>-7.858724</td>\n",
       "      <td>-7.849664</td>\n",
       "    </tr>\n",
       "    <tr>\n",
       "      <th>447</th>\n",
       "      <td>-22.276086</td>\n",
       "      <td>18.375550</td>\n",
       "    </tr>\n",
       "    <tr>\n",
       "      <th>448</th>\n",
       "      <td>-3.814042</td>\n",
       "      <td>-8.658855</td>\n",
       "    </tr>\n",
       "    <tr>\n",
       "      <th>449</th>\n",
       "      <td>0.749435</td>\n",
       "      <td>-19.339649</td>\n",
       "    </tr>\n",
       "  </tbody>\n",
       "</table>\n",
       "<p>450 rows × 2 columns</p>\n",
       "</div>"
      ],
      "text/plain": [
       "             0          1\n",
       "0   -13.661564  -1.570388\n",
       "1     7.690015   3.856342\n",
       "2    -0.408269   4.988843\n",
       "3    -5.948700  18.126090\n",
       "4   -19.680768 -12.701575\n",
       "..         ...        ...\n",
       "445   0.214123   1.783123\n",
       "446  -7.858724  -7.849664\n",
       "447 -22.276086  18.375550\n",
       "448  -3.814042  -8.658855\n",
       "449   0.749435 -19.339649\n",
       "\n",
       "[450 rows x 2 columns]"
      ]
     },
     "execution_count": 37,
     "metadata": {},
     "output_type": "execute_result"
    }
   ],
   "source": [
    "pd.DataFrame(X)"
   ]
  },
  {
   "cell_type": "code",
   "execution_count": 38,
   "metadata": {},
   "outputs": [
    {
     "data": {
      "text/plain": [
       "(450,)"
      ]
     },
     "execution_count": 38,
     "metadata": {},
     "output_type": "execute_result"
    }
   ],
   "source": [
    "y.shape"
   ]
  },
  {
   "cell_type": "code",
   "execution_count": 39,
   "metadata": {},
   "outputs": [
    {
     "data": {
      "text/html": [
       "<div>\n",
       "<style scoped>\n",
       "    .dataframe tbody tr th:only-of-type {\n",
       "        vertical-align: middle;\n",
       "    }\n",
       "\n",
       "    .dataframe tbody tr th {\n",
       "        vertical-align: top;\n",
       "    }\n",
       "\n",
       "    .dataframe thead th {\n",
       "        text-align: right;\n",
       "    }\n",
       "</style>\n",
       "<table border=\"1\" class=\"dataframe\">\n",
       "  <thead>\n",
       "    <tr style=\"text-align: right;\">\n",
       "      <th></th>\n",
       "      <th>X1</th>\n",
       "      <th>X2</th>\n",
       "      <th>y</th>\n",
       "    </tr>\n",
       "  </thead>\n",
       "  <tbody>\n",
       "    <tr>\n",
       "      <th>0</th>\n",
       "      <td>-13.661564</td>\n",
       "      <td>-1.570388</td>\n",
       "      <td>0.0</td>\n",
       "    </tr>\n",
       "    <tr>\n",
       "      <th>1</th>\n",
       "      <td>7.690015</td>\n",
       "      <td>3.856342</td>\n",
       "      <td>0.0</td>\n",
       "    </tr>\n",
       "    <tr>\n",
       "      <th>2</th>\n",
       "      <td>-0.408269</td>\n",
       "      <td>4.988843</td>\n",
       "      <td>0.0</td>\n",
       "    </tr>\n",
       "    <tr>\n",
       "      <th>3</th>\n",
       "      <td>-5.948700</td>\n",
       "      <td>18.126090</td>\n",
       "      <td>0.0</td>\n",
       "    </tr>\n",
       "    <tr>\n",
       "      <th>4</th>\n",
       "      <td>-19.680768</td>\n",
       "      <td>-12.701575</td>\n",
       "      <td>0.0</td>\n",
       "    </tr>\n",
       "  </tbody>\n",
       "</table>\n",
       "</div>"
      ],
      "text/plain": [
       "          X1         X2    y\n",
       "0 -13.661564  -1.570388  0.0\n",
       "1   7.690015   3.856342  0.0\n",
       "2  -0.408269   4.988843  0.0\n",
       "3  -5.948700  18.126090  0.0\n",
       "4 -19.680768 -12.701575  0.0"
      ]
     },
     "execution_count": 39,
     "metadata": {},
     "output_type": "execute_result"
    }
   ],
   "source": [
    "data = pd.DataFrame(np.column_stack((X,y)), columns=['X1','X2','y'])\n",
    "data.head()"
   ]
  },
  {
   "cell_type": "code",
   "execution_count": 40,
   "metadata": {},
   "outputs": [
    {
     "data": {
      "text/plain": [
       "0.0    400\n",
       "1.0     50\n",
       "Name: y, dtype: int64"
      ]
     },
     "execution_count": 40,
     "metadata": {},
     "output_type": "execute_result"
    }
   ],
   "source": [
    "data['y'].value_counts()"
   ]
  },
  {
   "cell_type": "code",
   "execution_count": 41,
   "metadata": {},
   "outputs": [
    {
     "data": {
      "text/plain": [
       "<Axes: ylabel='y'>"
      ]
     },
     "execution_count": 41,
     "metadata": {},
     "output_type": "execute_result"
    },
    {
     "data": {
      "image/png": "[encoded data removed]",
      "text/plain": [
       "<Figure size 640x480 with 1 Axes>"
      ]
     },
     "metadata": {},
     "output_type": "display_data"
    }
   ],
   "source": [
    "# Percentage of dfferent classes\n",
    "data['y'].value_counts().plot(kind='pie')"
   ]
  },
  {
   "cell_type": "markdown",
   "metadata": {},
   "source": [
    "We want our train test split to have the same class distribution"
   ]
  },
  {
   "cell_type": "code",
   "execution_count": 42,
   "metadata": {},
   "outputs": [],
   "source": [
    "# Spliting the data with stratify parameter=y\n",
    "X_train, X_test, y_train, y_test = train_test_split(X, y, test_size=0.3, random_state=42, stratify=y)"
   ]
  },
  {
   "cell_type": "code",
   "execution_count": 43,
   "metadata": {},
   "outputs": [
    {
     "data": {
      "text/plain": [
       "0    280\n",
       "1     35\n",
       "dtype: int64"
      ]
     },
     "execution_count": 43,
     "metadata": {},
     "output_type": "execute_result"
    }
   ],
   "source": [
    "#How many distinct classes do we have in y_train?\n",
    "pd.DataFrame(y_train).value_counts()"
   ]
  },
  {
   "cell_type": "code",
   "execution_count": 44,
   "metadata": {},
   "outputs": [
    {
     "data": {
      "text/plain": [
       "<Axes: >"
      ]
     },
     "execution_count": 44,
     "metadata": {},
     "output_type": "execute_result"
    },
    {
     "data": {
      "image/png": "[encoded data removed]",
      "text/plain": [
       "<Figure size 640x480 with 1 Axes>"
      ]
     },
     "metadata": {},
     "output_type": "display_data"
    }
   ],
   "source": [
    "pd.DataFrame(y_train).value_counts().plot(kind='pie')"
   ]
  },
  {
   "cell_type": "code",
   "execution_count": 45,
   "metadata": {},
   "outputs": [
    {
     "data": {
      "text/plain": [
       "<Axes: >"
      ]
     },
     "execution_count": 45,
     "metadata": {},
     "output_type": "execute_result"
    },
    {
     "data": {
      "image/png": "[encoded data removed]",
      "text/plain": [
       "<Figure size 640x480 with 1 Axes>"
      ]
     },
     "metadata": {},
     "output_type": "display_data"
    }
   ],
   "source": [
    "#How many distinct classes do we have in y_test?\n",
    "pd.DataFrame(y_test).value_counts().plot(kind='pie')"
   ]
  },
  {
   "cell_type": "markdown",
   "metadata": {},
   "source": [
    "### <font color= #2E9AFE> Train-test split for machine learning models</font>\n",
    "\n",
    "#### <font color= blue> Clasificaction</font>"
   ]
  },
  {
   "cell_type": "code",
   "execution_count": 46,
   "metadata": {},
   "outputs": [],
   "source": [
    "#Load data\n",
    "data = pd.read_csv('glass.data',header=None)\n",
    "names = ['ID','Indice_Refraccion','Na','Mg','Al','Si','K', 'Ca','Ba','Fe','Tipo_Vidrio']\n",
    "data.columns = names\n",
    "\n",
    "#Separate x and y\n",
    "X = data.iloc[:, :-1]\n",
    "y = data.iloc[:, -1]"
   ]
  },
  {
   "cell_type": "code",
   "execution_count": 47,
   "metadata": {},
   "outputs": [
    {
     "data": {
      "text/html": [
       "<div>\n",
       "<style scoped>\n",
       "    .dataframe tbody tr th:only-of-type {\n",
       "        vertical-align: middle;\n",
       "    }\n",
       "\n",
       "    .dataframe tbody tr th {\n",
       "        vertical-align: top;\n",
       "    }\n",
       "\n",
       "    .dataframe thead th {\n",
       "        text-align: right;\n",
       "    }\n",
       "</style>\n",
       "<table border=\"1\" class=\"dataframe\">\n",
       "  <thead>\n",
       "    <tr style=\"text-align: right;\">\n",
       "      <th></th>\n",
       "      <th>ID</th>\n",
       "      <th>Indice_Refraccion</th>\n",
       "      <th>Na</th>\n",
       "      <th>Mg</th>\n",
       "      <th>Al</th>\n",
       "      <th>Si</th>\n",
       "      <th>K</th>\n",
       "      <th>Ca</th>\n",
       "      <th>Ba</th>\n",
       "      <th>Fe</th>\n",
       "      <th>Tipo_Vidrio</th>\n",
       "    </tr>\n",
       "  </thead>\n",
       "  <tbody>\n",
       "    <tr>\n",
       "      <th>0</th>\n",
       "      <td>1</td>\n",
       "      <td>1.52101</td>\n",
       "      <td>13.64</td>\n",
       "      <td>4.49</td>\n",
       "      <td>1.10</td>\n",
       "      <td>71.78</td>\n",
       "      <td>0.06</td>\n",
       "      <td>8.75</td>\n",
       "      <td>0.0</td>\n",
       "      <td>0.0</td>\n",
       "      <td>1</td>\n",
       "    </tr>\n",
       "    <tr>\n",
       "      <th>1</th>\n",
       "      <td>2</td>\n",
       "      <td>1.51761</td>\n",
       "      <td>13.89</td>\n",
       "      <td>3.60</td>\n",
       "      <td>1.36</td>\n",
       "      <td>72.73</td>\n",
       "      <td>0.48</td>\n",
       "      <td>7.83</td>\n",
       "      <td>0.0</td>\n",
       "      <td>0.0</td>\n",
       "      <td>1</td>\n",
       "    </tr>\n",
       "    <tr>\n",
       "      <th>2</th>\n",
       "      <td>3</td>\n",
       "      <td>1.51618</td>\n",
       "      <td>13.53</td>\n",
       "      <td>3.55</td>\n",
       "      <td>1.54</td>\n",
       "      <td>72.99</td>\n",
       "      <td>0.39</td>\n",
       "      <td>7.78</td>\n",
       "      <td>0.0</td>\n",
       "      <td>0.0</td>\n",
       "      <td>1</td>\n",
       "    </tr>\n",
       "    <tr>\n",
       "      <th>3</th>\n",
       "      <td>4</td>\n",
       "      <td>1.51766</td>\n",
       "      <td>13.21</td>\n",
       "      <td>3.69</td>\n",
       "      <td>1.29</td>\n",
       "      <td>72.61</td>\n",
       "      <td>0.57</td>\n",
       "      <td>8.22</td>\n",
       "      <td>0.0</td>\n",
       "      <td>0.0</td>\n",
       "      <td>1</td>\n",
       "    </tr>\n",
       "    <tr>\n",
       "      <th>4</th>\n",
       "      <td>5</td>\n",
       "      <td>1.51742</td>\n",
       "      <td>13.27</td>\n",
       "      <td>3.62</td>\n",
       "      <td>1.24</td>\n",
       "      <td>73.08</td>\n",
       "      <td>0.55</td>\n",
       "      <td>8.07</td>\n",
       "      <td>0.0</td>\n",
       "      <td>0.0</td>\n",
       "      <td>1</td>\n",
       "    </tr>\n",
       "  </tbody>\n",
       "</table>\n",
       "</div>"
      ],
      "text/plain": [
       "   ID  Indice_Refraccion     Na    Mg    Al     Si     K    Ca   Ba   Fe  \\\n",
       "0   1            1.52101  13.64  4.49  1.10  71.78  0.06  8.75  0.0  0.0   \n",
       "1   2            1.51761  13.89  3.60  1.36  72.73  0.48  7.83  0.0  0.0   \n",
       "2   3            1.51618  13.53  3.55  1.54  72.99  0.39  7.78  0.0  0.0   \n",
       "3   4            1.51766  13.21  3.69  1.29  72.61  0.57  8.22  0.0  0.0   \n",
       "4   5            1.51742  13.27  3.62  1.24  73.08  0.55  8.07  0.0  0.0   \n",
       "\n",
       "   Tipo_Vidrio  \n",
       "0            1  \n",
       "1            1  \n",
       "2            1  \n",
       "3            1  \n",
       "4            1  "
      ]
     },
     "execution_count": 47,
     "metadata": {},
     "output_type": "execute_result"
    }
   ],
   "source": [
    "data.head()"
   ]
  },
  {
   "cell_type": "code",
   "execution_count": 48,
   "metadata": {},
   "outputs": [
    {
     "data": {
      "text/plain": [
       "(214, 11)"
      ]
     },
     "execution_count": 48,
     "metadata": {},
     "output_type": "execute_result"
    }
   ],
   "source": [
    "data.shape"
   ]
  },
  {
   "cell_type": "code",
   "execution_count": 49,
   "metadata": {},
   "outputs": [
    {
     "data": {
      "text/plain": [
       "2    0.355140\n",
       "1    0.327103\n",
       "7    0.135514\n",
       "3    0.079439\n",
       "5    0.060748\n",
       "6    0.042056\n",
       "Name: Tipo_Vidrio, dtype: float64"
      ]
     },
     "execution_count": 49,
     "metadata": {},
     "output_type": "execute_result"
    }
   ],
   "source": [
    "#How many distinct classes does objective variables has?\n",
    "data.Tipo_Vidrio.value_counts(normalize=True)"
   ]
  },
  {
   "cell_type": "code",
   "execution_count": 50,
   "metadata": {},
   "outputs": [
    {
     "name": "stdout",
     "output_type": "stream",
     "text": [
      "Tamaño de X entrenamiento: (149, 10)\n",
      "Tamaño de X prueba: (65, 10)\n",
      "Tamaño de y entrenamiento: (149,)\n",
      "Tamaño de y prueba: (65,)\n"
     ]
    }
   ],
   "source": [
    "#train-test split\n",
    "X_train, X_test, y_train, y_test = train_test_split(X, y, test_size=0.3, random_state=46, stratify=y)\n",
    "\n",
    "\n",
    "\n",
    "print(\"Tamaño de X entrenamiento:\",X_train.shape)\n",
    "print(\"Tamaño de X prueba:\",X_test.shape)\n",
    "print(\"Tamaño de y entrenamiento:\",y_train.shape)\n",
    "print(\"Tamaño de y prueba:\",y_test.shape)"
   ]
  },
  {
   "cell_type": "code",
   "execution_count": 51,
   "metadata": {},
   "outputs": [
    {
     "data": {
      "text/plain": [
       "2    0.355705\n",
       "1    0.328859\n",
       "7    0.134228\n",
       "3    0.080537\n",
       "5    0.060403\n",
       "6    0.040268\n",
       "Name: Tipo_Vidrio, dtype: float64"
      ]
     },
     "execution_count": 51,
     "metadata": {},
     "output_type": "execute_result"
    }
   ],
   "source": [
    "# y_train distribution\n",
    "y_train.value_counts(normalize=True)"
   ]
  },
  {
   "cell_type": "code",
   "execution_count": 52,
   "metadata": {},
   "outputs": [
    {
     "data": {
      "text/plain": [
       "2    0.353846\n",
       "1    0.323077\n",
       "7    0.138462\n",
       "3    0.076923\n",
       "5    0.061538\n",
       "6    0.046154\n",
       "Name: Tipo_Vidrio, dtype: float64"
      ]
     },
     "execution_count": 52,
     "metadata": {},
     "output_type": "execute_result"
    }
   ],
   "source": [
    "# y_test distribution\n",
    "y_test.value_counts(normalize=True)"
   ]
  },
  {
   "cell_type": "code",
   "execution_count": 53,
   "metadata": {},
   "outputs": [
    {
     "name": "stdout",
     "output_type": "stream",
     "text": [
      "Accuracy: 0.984615\n"
     ]
    },
    {
     "name": "stderr",
     "output_type": "stream",
     "text": [
      "/Users/octavioperezurbina/anaconda3/lib/python3.11/site-packages/sklearn/linear_model/_logistic.py:460: ConvergenceWarning: lbfgs failed to converge (status=1):\n",
      "STOP: TOTAL NO. of ITERATIONS REACHED LIMIT.\n",
      "\n",
      "Increase the number of iterations (max_iter) or scale the data as shown in:\n",
      "    https://scikit-learn.org/stable/modules/preprocessing.html\n",
      "Please also refer to the documentation for alternative solver options:\n",
      "    https://scikit-learn.org/stable/modules/linear_model.html#logistic-regression\n",
      "  n_iter_i = _check_optimize_result(\n"
     ]
    }
   ],
   "source": [
    "#Adjust logistic regression\n",
    "from sklearn.linear_model import LogisticRegression\n",
    "from sklearn.metrics import accuracy_score\n",
    "\n",
    "\n",
    "model = LogisticRegression()\n",
    "\n",
    "# Fitting the model\n",
    "model.fit(X_train, y_train)\n",
    "\n",
    "#Prediction with test data-> y^\n",
    "pred = model.predict(X_test)\n",
    "\n",
    "#Evaluating predictions against real data\n",
    "accuracy = accuracy_score(y_test, pred)\n",
    "print('Accuracy: %3f' %accuracy)\n"
   ]
  },
  {
   "cell_type": "markdown",
   "metadata": {},
   "source": [
    "#### <font color= blue> Regression</font>"
   ]
  },
  {
   "cell_type": "markdown",
   "metadata": {},
   "source": [
    "**Which are the disadvantages of using train-test split to evaluate model performance?**\n",
    "\n",
    "It gives us a high variance estimation because if we change the seed the model, the performance will significantly change\n",
    "\n"
   ]
  },
  {
   "cell_type": "code",
   "execution_count": 54,
   "metadata": {},
   "outputs": [],
   "source": [
    "#libraries\n",
    "from sklearn.datasets import load_iris\n",
    "from sklearn.model_selection import train_test_split\n",
    "from sklearn.neighbors import KNeighborsClassifier\n",
    "from sklearn import metrics"
   ]
  },
  {
   "cell_type": "code",
   "execution_count": 55,
   "metadata": {},
   "outputs": [],
   "source": [
    "iris = load_iris()\n",
    "\n",
    "# X and Y\n",
    "X=iris.data\n",
    "y=iris.target"
   ]
  },
  {
   "cell_type": "code",
   "execution_count": 56,
   "metadata": {},
   "outputs": [
    {
     "data": {
      "text/html": [
       "<div>\n",
       "<style scoped>\n",
       "    .dataframe tbody tr th:only-of-type {\n",
       "        vertical-align: middle;\n",
       "    }\n",
       "\n",
       "    .dataframe tbody tr th {\n",
       "        vertical-align: top;\n",
       "    }\n",
       "\n",
       "    .dataframe thead th {\n",
       "        text-align: right;\n",
       "    }\n",
       "</style>\n",
       "<table border=\"1\" class=\"dataframe\">\n",
       "  <thead>\n",
       "    <tr style=\"text-align: right;\">\n",
       "      <th></th>\n",
       "      <th>0</th>\n",
       "      <th>1</th>\n",
       "      <th>2</th>\n",
       "      <th>3</th>\n",
       "    </tr>\n",
       "  </thead>\n",
       "  <tbody>\n",
       "    <tr>\n",
       "      <th>0</th>\n",
       "      <td>5.1</td>\n",
       "      <td>3.5</td>\n",
       "      <td>1.4</td>\n",
       "      <td>0.2</td>\n",
       "    </tr>\n",
       "    <tr>\n",
       "      <th>1</th>\n",
       "      <td>4.9</td>\n",
       "      <td>3.0</td>\n",
       "      <td>1.4</td>\n",
       "      <td>0.2</td>\n",
       "    </tr>\n",
       "    <tr>\n",
       "      <th>2</th>\n",
       "      <td>4.7</td>\n",
       "      <td>3.2</td>\n",
       "      <td>1.3</td>\n",
       "      <td>0.2</td>\n",
       "    </tr>\n",
       "    <tr>\n",
       "      <th>3</th>\n",
       "      <td>4.6</td>\n",
       "      <td>3.1</td>\n",
       "      <td>1.5</td>\n",
       "      <td>0.2</td>\n",
       "    </tr>\n",
       "    <tr>\n",
       "      <th>4</th>\n",
       "      <td>5.0</td>\n",
       "      <td>3.6</td>\n",
       "      <td>1.4</td>\n",
       "      <td>0.2</td>\n",
       "    </tr>\n",
       "    <tr>\n",
       "      <th>...</th>\n",
       "      <td>...</td>\n",
       "      <td>...</td>\n",
       "      <td>...</td>\n",
       "      <td>...</td>\n",
       "    </tr>\n",
       "    <tr>\n",
       "      <th>145</th>\n",
       "      <td>6.7</td>\n",
       "      <td>3.0</td>\n",
       "      <td>5.2</td>\n",
       "      <td>2.3</td>\n",
       "    </tr>\n",
       "    <tr>\n",
       "      <th>146</th>\n",
       "      <td>6.3</td>\n",
       "      <td>2.5</td>\n",
       "      <td>5.0</td>\n",
       "      <td>1.9</td>\n",
       "    </tr>\n",
       "    <tr>\n",
       "      <th>147</th>\n",
       "      <td>6.5</td>\n",
       "      <td>3.0</td>\n",
       "      <td>5.2</td>\n",
       "      <td>2.0</td>\n",
       "    </tr>\n",
       "    <tr>\n",
       "      <th>148</th>\n",
       "      <td>6.2</td>\n",
       "      <td>3.4</td>\n",
       "      <td>5.4</td>\n",
       "      <td>2.3</td>\n",
       "    </tr>\n",
       "    <tr>\n",
       "      <th>149</th>\n",
       "      <td>5.9</td>\n",
       "      <td>3.0</td>\n",
       "      <td>5.1</td>\n",
       "      <td>1.8</td>\n",
       "    </tr>\n",
       "  </tbody>\n",
       "</table>\n",
       "<p>150 rows × 4 columns</p>\n",
       "</div>"
      ],
      "text/plain": [
       "       0    1    2    3\n",
       "0    5.1  3.5  1.4  0.2\n",
       "1    4.9  3.0  1.4  0.2\n",
       "2    4.7  3.2  1.3  0.2\n",
       "3    4.6  3.1  1.5  0.2\n",
       "4    5.0  3.6  1.4  0.2\n",
       "..   ...  ...  ...  ...\n",
       "145  6.7  3.0  5.2  2.3\n",
       "146  6.3  2.5  5.0  1.9\n",
       "147  6.5  3.0  5.2  2.0\n",
       "148  6.2  3.4  5.4  2.3\n",
       "149  5.9  3.0  5.1  1.8\n",
       "\n",
       "[150 rows x 4 columns]"
      ]
     },
     "execution_count": 56,
     "metadata": {},
     "output_type": "execute_result"
    }
   ],
   "source": [
    "pd.DataFrame(iris.data)"
   ]
  },
  {
   "cell_type": "code",
   "execution_count": 57,
   "metadata": {},
   "outputs": [
    {
     "name": "stdout",
     "output_type": "stream",
     "text": [
      "Accuracy: 0.974\n"
     ]
    }
   ],
   "source": [
    "#Train-test split with random values\n",
    "X_train, X_test, y_train, y_test = train_test_split(X, y, random_state=4) #2 #7\n",
    "\n",
    "\n",
    "#Test acurracy for KNeighbors\n",
    "model = KNeighborsClassifier(n_neighbors=5)\n",
    "model.fit(X_train, y_train)\n",
    "y_pred = model.predict(X_test)\n",
    "acc = metrics.accuracy_score(y_test, y_pred)\n",
    "print('Accuracy: %.3f' % acc)"
   ]
  },
  {
   "cell_type": "markdown",
   "metadata": {},
   "source": [
    "**Pregunta:** Qué pasaría si dividiéramos los datos muchas veces de distintas maneras, calculando la presición para cada partición y finalmente promediando los resultados?\n",
    "\n",
    "**Question** What would happen if we split the data several times, calculating the acurracy and averaging the results\n",
    "\n",
    "**Answer** cross validation\n",
    "\n",
    "**Another question** Does feature selection should be done before or after split\n"
   ]
  },
  {
   "cell_type": "code",
   "execution_count": 58,
   "metadata": {},
   "outputs": [],
   "source": [
    "#Feture selection before spliting data\n",
    "\n",
    "import numpy as np\n",
    "from sklearn.feature_selection import SelectKBest\n",
    "from sklearn.model_selection import train_test_split\n",
    "from sklearn.linear_model import LogisticRegression\n",
    "from sklearn.metrics import accuracy_score\n",
    "\n",
    "# random data\n",
    "np.random.seed(1)\n",
    "X = np.random.randn(500, 10000) #500 rows, 10000 columns\n",
    "y = np.random.choice(2, size=500)"
   ]
  },
  {
   "cell_type": "code",
   "execution_count": 59,
   "metadata": {},
   "outputs": [
    {
     "data": {
      "text/plain": [
       "0.76"
      ]
     },
     "execution_count": 59,
     "metadata": {},
     "output_type": "execute_result"
    }
   ],
   "source": [
    "#Selecting best 25 variables using ANOVA test\n",
    "selector = SelectKBest(k=25) \n",
    "\n",
    "X_selected = selector.fit_transform(X,y)\n",
    "\n",
    "#Spliting\n",
    "X_selected_train, X_selected_test, y_train, y_test = train_test_split(X_selected, y, test_size=0.25, random_state=42)\n",
    "\n",
    "# Adjusting regression\n",
    "lr = LogisticRegression()\n",
    "lr.fit(X_selected_train,y_train)\n",
    "\n",
    "# Predict and get data\n",
    "y_pred = lr.predict(X_selected_test)\n",
    "accuracy_score(y_test, y_pred)"
   ]
  },
  {
   "cell_type": "markdown",
   "metadata": {},
   "source": [
    "We got a good 0.76 precission... but me made a basic mistake, test data has already been seen by the model when we used: \n",
    "**X_selected = selector.fit_transform(X,y)**\n",
    "\n",
    "Let's see how our model performs when given new data"
   ]
  },
  {
   "cell_type": "code",
   "execution_count": 60,
   "metadata": {},
   "outputs": [
    {
     "data": {
      "text/plain": [
       "0.506"
      ]
     },
     "execution_count": 60,
     "metadata": {},
     "output_type": "execute_result"
    }
   ],
   "source": [
    "\n",
    "\n",
    "#Creating new data for our model\n",
    "X_new = np.random.randn(500, 10000)\n",
    "y_new = np.random.choice(2, size=500)\n",
    "\n",
    "\n",
    "#Select same variables\n",
    "X_new_selected = selector.transform(X_new)\n",
    "\n",
    "#Predict and get accuracy\n",
    "y_new_pred = lr.predict(X_new_selected)\n",
    "accuracy_score(y_new, y_new_pred)"
   ]
  },
  {
   "cell_type": "markdown",
   "metadata": {},
   "source": [
    "So... We split and then select variables"
   ]
  },
  {
   "cell_type": "code",
   "execution_count": 61,
   "metadata": {},
   "outputs": [
    {
     "data": {
      "text/plain": [
       "0.496"
      ]
     },
     "execution_count": 61,
     "metadata": {},
     "output_type": "execute_result"
    }
   ],
   "source": [
    "#The correct way to choose featues is first spliting then choosing\n",
    "\n",
    "# Split\n",
    "X_train, X_test, y_train, y_test = train_test_split(X, y, test_size=0.25, random_state=42)\n",
    "\n",
    "# Select best features based on train\n",
    "selector = SelectKBest(k=25)\n",
    "X_train_selected = selector.fit_transform(X_train,y_train)\n",
    "\n",
    "# Adjust logistic regression\n",
    "lr.fit(X_train_selected,y_train)\n",
    "\n",
    "# Select most important columns and used them in x_test\n",
    "X_test_selected = selector.transform(X_test)\n",
    "y_pred = lr.predict(X_test_selected)\n",
    "accuracy_score(y_test, y_pred)\n"
   ]
  },
  {
   "cell_type": "code",
   "execution_count": 62,
   "metadata": {},
   "outputs": [
    {
     "data": {
      "text/plain": [
       "0.526"
      ]
     },
     "execution_count": 62,
     "metadata": {},
     "output_type": "execute_result"
    }
   ],
   "source": [
    "#Model performance with new data\n",
    "\n",
    "X_new_selected = selector.transform(X_new)\n",
    "\n",
    "y_new_pred = lr.predict(X_new_selected)\n",
    "accuracy_score(y_new, y_new_pred)"
   ]
  },
  {
   "cell_type": "markdown",
   "metadata": {},
   "source": [
    "### <font color= #2E9AFE> K-Fold Cross Validation</font>\n",
    "\n",
    "#### Steps\n",
    "\n",
    "1. Divide data en K folds\n",
    "2. We use fold 1 as test data and the remaining folds as train data\n",
    "3. We calculate accuracy\n",
    "4. We repeat step 2,3 using different test folds\n",
    "5. We get average accuracy\n"
   ]
  },
  {
   "cell_type": "code",
   "execution_count": 63,
   "metadata": {},
   "outputs": [
    {
     "name": "stdout",
     "output_type": "stream",
     "text": [
      "TRAIN: [100 101 102 103 104 105 106 107 108 109 110 111 112 113 114 115 116 117\n",
      " 118 119 120 121 122 123 124 125 126 127 128 129 130 131 132 133 134 135\n",
      " 136 137 138 139 140 141 142 143 144 145 146 147 148 149 150 151 152 153\n",
      " 154 155 156 157 158 159 160 161 162 163 164 165 166 167 168 169 170 171\n",
      " 172 173 174 175 176 177 178 179 180 181 182 183 184 185 186 187 188 189\n",
      " 190 191 192 193 194 195 196 197 198 199 200 201 202 203 204 205 206 207\n",
      " 208 209 210 211 212 213 214 215 216 217 218 219 220 221 222 223 224 225\n",
      " 226 227 228 229 230 231 232 233 234 235 236 237 238 239 240 241 242 243\n",
      " 244 245 246 247 248 249 250 251 252 253 254 255 256 257 258 259 260 261\n",
      " 262 263 264 265 266 267 268 269 270 271 272 273 274 275 276 277 278 279\n",
      " 280 281 282 283 284 285 286 287 288 289 290 291 292 293 294 295 296 297\n",
      " 298 299 300 301 302 303 304 305 306 307 308 309 310 311 312 313 314 315\n",
      " 316 317 318 319 320 321 322 323 324 325 326 327 328 329 330 331 332 333\n",
      " 334 335 336 337 338 339 340 341 342 343 344 345 346 347 348 349 350 351\n",
      " 352 353 354 355 356 357 358 359 360 361 362 363 364 365 366 367 368 369\n",
      " 370 371 372 373 374 375 376 377 378 379 380 381 382 383 384 385 386 387\n",
      " 388 389 390 391 392 393 394 395 396 397 398 399 400 401 402 403 404 405\n",
      " 406 407 408 409 410 411 412 413 414 415 416 417 418 419 420 421 422 423\n",
      " 424 425 426 427 428 429 430 431 432 433 434 435 436 437 438 439 440 441\n",
      " 442 443 444 445 446 447 448 449 450 451 452 453 454 455 456 457 458 459\n",
      " 460 461 462 463 464 465 466 467 468 469 470 471 472 473 474 475 476 477\n",
      " 478 479 480 481 482 483 484 485 486 487 488 489 490 491 492 493 494 495\n",
      " 496 497 498 499] TEST: [ 0  1  2  3  4  5  6  7  8  9 10 11 12 13 14 15 16 17 18 19 20 21 22 23\n",
      " 24 25 26 27 28 29 30 31 32 33 34 35 36 37 38 39 40 41 42 43 44 45 46 47\n",
      " 48 49 50 51 52 53 54 55 56 57 58 59 60 61 62 63 64 65 66 67 68 69 70 71\n",
      " 72 73 74 75 76 77 78 79 80 81 82 83 84 85 86 87 88 89 90 91 92 93 94 95\n",
      " 96 97 98 99]\n",
      "TRAIN: [  0   1   2   3   4   5   6   7   8   9  10  11  12  13  14  15  16  17\n",
      "  18  19  20  21  22  23  24  25  26  27  28  29  30  31  32  33  34  35\n",
      "  36  37  38  39  40  41  42  43  44  45  46  47  48  49  50  51  52  53\n",
      "  54  55  56  57  58  59  60  61  62  63  64  65  66  67  68  69  70  71\n",
      "  72  73  74  75  76  77  78  79  80  81  82  83  84  85  86  87  88  89\n",
      "  90  91  92  93  94  95  96  97  98  99 200 201 202 203 204 205 206 207\n",
      " 208 209 210 211 212 213 214 215 216 217 218 219 220 221 222 223 224 225\n",
      " 226 227 228 229 230 231 232 233 234 235 236 237 238 239 240 241 242 243\n",
      " 244 245 246 247 248 249 250 251 252 253 254 255 256 257 258 259 260 261\n",
      " 262 263 264 265 266 267 268 269 270 271 272 273 274 275 276 277 278 279\n",
      " 280 281 282 283 284 285 286 287 288 289 290 291 292 293 294 295 296 297\n",
      " 298 299 300 301 302 303 304 305 306 307 308 309 310 311 312 313 314 315\n",
      " 316 317 318 319 320 321 322 323 324 325 326 327 328 329 330 331 332 333\n",
      " 334 335 336 337 338 339 340 341 342 343 344 345 346 347 348 349 350 351\n",
      " 352 353 354 355 356 357 358 359 360 361 362 363 364 365 366 367 368 369\n",
      " 370 371 372 373 374 375 376 377 378 379 380 381 382 383 384 385 386 387\n",
      " 388 389 390 391 392 393 394 395 396 397 398 399 400 401 402 403 404 405\n",
      " 406 407 408 409 410 411 412 413 414 415 416 417 418 419 420 421 422 423\n",
      " 424 425 426 427 428 429 430 431 432 433 434 435 436 437 438 439 440 441\n",
      " 442 443 444 445 446 447 448 449 450 451 452 453 454 455 456 457 458 459\n",
      " 460 461 462 463 464 465 466 467 468 469 470 471 472 473 474 475 476 477\n",
      " 478 479 480 481 482 483 484 485 486 487 488 489 490 491 492 493 494 495\n",
      " 496 497 498 499] TEST: [100 101 102 103 104 105 106 107 108 109 110 111 112 113 114 115 116 117\n",
      " 118 119 120 121 122 123 124 125 126 127 128 129 130 131 132 133 134 135\n",
      " 136 137 138 139 140 141 142 143 144 145 146 147 148 149 150 151 152 153\n",
      " 154 155 156 157 158 159 160 161 162 163 164 165 166 167 168 169 170 171\n",
      " 172 173 174 175 176 177 178 179 180 181 182 183 184 185 186 187 188 189\n",
      " 190 191 192 193 194 195 196 197 198 199]\n",
      "TRAIN: [  0   1   2   3   4   5   6   7   8   9  10  11  12  13  14  15  16  17\n",
      "  18  19  20  21  22  23  24  25  26  27  28  29  30  31  32  33  34  35\n",
      "  36  37  38  39  40  41  42  43  44  45  46  47  48  49  50  51  52  53\n",
      "  54  55  56  57  58  59  60  61  62  63  64  65  66  67  68  69  70  71\n",
      "  72  73  74  75  76  77  78  79  80  81  82  83  84  85  86  87  88  89\n",
      "  90  91  92  93  94  95  96  97  98  99 100 101 102 103 104 105 106 107\n",
      " 108 109 110 111 112 113 114 115 116 117 118 119 120 121 122 123 124 125\n",
      " 126 127 128 129 130 131 132 133 134 135 136 137 138 139 140 141 142 143\n",
      " 144 145 146 147 148 149 150 151 152 153 154 155 156 157 158 159 160 161\n",
      " 162 163 164 165 166 167 168 169 170 171 172 173 174 175 176 177 178 179\n",
      " 180 181 182 183 184 185 186 187 188 189 190 191 192 193 194 195 196 197\n",
      " 198 199 300 301 302 303 304 305 306 307 308 309 310 311 312 313 314 315\n",
      " 316 317 318 319 320 321 322 323 324 325 326 327 328 329 330 331 332 333\n",
      " 334 335 336 337 338 339 340 341 342 343 344 345 346 347 348 349 350 351\n",
      " 352 353 354 355 356 357 358 359 360 361 362 363 364 365 366 367 368 369\n",
      " 370 371 372 373 374 375 376 377 378 379 380 381 382 383 384 385 386 387\n",
      " 388 389 390 391 392 393 394 395 396 397 398 399 400 401 402 403 404 405\n",
      " 406 407 408 409 410 411 412 413 414 415 416 417 418 419 420 421 422 423\n",
      " 424 425 426 427 428 429 430 431 432 433 434 435 436 437 438 439 440 441\n",
      " 442 443 444 445 446 447 448 449 450 451 452 453 454 455 456 457 458 459\n",
      " 460 461 462 463 464 465 466 467 468 469 470 471 472 473 474 475 476 477\n",
      " 478 479 480 481 482 483 484 485 486 487 488 489 490 491 492 493 494 495\n",
      " 496 497 498 499] TEST: [200 201 202 203 204 205 206 207 208 209 210 211 212 213 214 215 216 217\n",
      " 218 219 220 221 222 223 224 225 226 227 228 229 230 231 232 233 234 235\n",
      " 236 237 238 239 240 241 242 243 244 245 246 247 248 249 250 251 252 253\n",
      " 254 255 256 257 258 259 260 261 262 263 264 265 266 267 268 269 270 271\n",
      " 272 273 274 275 276 277 278 279 280 281 282 283 284 285 286 287 288 289\n",
      " 290 291 292 293 294 295 296 297 298 299]\n",
      "TRAIN: [  0   1   2   3   4   5   6   7   8   9  10  11  12  13  14  15  16  17\n",
      "  18  19  20  21  22  23  24  25  26  27  28  29  30  31  32  33  34  35\n",
      "  36  37  38  39  40  41  42  43  44  45  46  47  48  49  50  51  52  53\n",
      "  54  55  56  57  58  59  60  61  62  63  64  65  66  67  68  69  70  71\n",
      "  72  73  74  75  76  77  78  79  80  81  82  83  84  85  86  87  88  89\n",
      "  90  91  92  93  94  95  96  97  98  99 100 101 102 103 104 105 106 107\n",
      " 108 109 110 111 112 113 114 115 116 117 118 119 120 121 122 123 124 125\n",
      " 126 127 128 129 130 131 132 133 134 135 136 137 138 139 140 141 142 143\n",
      " 144 145 146 147 148 149 150 151 152 153 154 155 156 157 158 159 160 161\n",
      " 162 163 164 165 166 167 168 169 170 171 172 173 174 175 176 177 178 179\n",
      " 180 181 182 183 184 185 186 187 188 189 190 191 192 193 194 195 196 197\n",
      " 198 199 200 201 202 203 204 205 206 207 208 209 210 211 212 213 214 215\n",
      " 216 217 218 219 220 221 222 223 224 225 226 227 228 229 230 231 232 233\n",
      " 234 235 236 237 238 239 240 241 242 243 244 245 246 247 248 249 250 251\n",
      " 252 253 254 255 256 257 258 259 260 261 262 263 264 265 266 267 268 269\n",
      " 270 271 272 273 274 275 276 277 278 279 280 281 282 283 284 285 286 287\n",
      " 288 289 290 291 292 293 294 295 296 297 298 299 400 401 402 403 404 405\n",
      " 406 407 408 409 410 411 412 413 414 415 416 417 418 419 420 421 422 423\n",
      " 424 425 426 427 428 429 430 431 432 433 434 435 436 437 438 439 440 441\n",
      " 442 443 444 445 446 447 448 449 450 451 452 453 454 455 456 457 458 459\n",
      " 460 461 462 463 464 465 466 467 468 469 470 471 472 473 474 475 476 477\n",
      " 478 479 480 481 482 483 484 485 486 487 488 489 490 491 492 493 494 495\n",
      " 496 497 498 499] TEST: [300 301 302 303 304 305 306 307 308 309 310 311 312 313 314 315 316 317\n",
      " 318 319 320 321 322 323 324 325 326 327 328 329 330 331 332 333 334 335\n",
      " 336 337 338 339 340 341 342 343 344 345 346 347 348 349 350 351 352 353\n",
      " 354 355 356 357 358 359 360 361 362 363 364 365 366 367 368 369 370 371\n",
      " 372 373 374 375 376 377 378 379 380 381 382 383 384 385 386 387 388 389\n",
      " 390 391 392 393 394 395 396 397 398 399]\n",
      "TRAIN: [  0   1   2   3   4   5   6   7   8   9  10  11  12  13  14  15  16  17\n",
      "  18  19  20  21  22  23  24  25  26  27  28  29  30  31  32  33  34  35\n",
      "  36  37  38  39  40  41  42  43  44  45  46  47  48  49  50  51  52  53\n",
      "  54  55  56  57  58  59  60  61  62  63  64  65  66  67  68  69  70  71\n",
      "  72  73  74  75  76  77  78  79  80  81  82  83  84  85  86  87  88  89\n",
      "  90  91  92  93  94  95  96  97  98  99 100 101 102 103 104 105 106 107\n",
      " 108 109 110 111 112 113 114 115 116 117 118 119 120 121 122 123 124 125\n",
      " 126 127 128 129 130 131 132 133 134 135 136 137 138 139 140 141 142 143\n",
      " 144 145 146 147 148 149 150 151 152 153 154 155 156 157 158 159 160 161\n",
      " 162 163 164 165 166 167 168 169 170 171 172 173 174 175 176 177 178 179\n",
      " 180 181 182 183 184 185 186 187 188 189 190 191 192 193 194 195 196 197\n",
      " 198 199 200 201 202 203 204 205 206 207 208 209 210 211 212 213 214 215\n",
      " 216 217 218 219 220 221 222 223 224 225 226 227 228 229 230 231 232 233\n",
      " 234 235 236 237 238 239 240 241 242 243 244 245 246 247 248 249 250 251\n",
      " 252 253 254 255 256 257 258 259 260 261 262 263 264 265 266 267 268 269\n",
      " 270 271 272 273 274 275 276 277 278 279 280 281 282 283 284 285 286 287\n",
      " 288 289 290 291 292 293 294 295 296 297 298 299 300 301 302 303 304 305\n",
      " 306 307 308 309 310 311 312 313 314 315 316 317 318 319 320 321 322 323\n",
      " 324 325 326 327 328 329 330 331 332 333 334 335 336 337 338 339 340 341\n",
      " 342 343 344 345 346 347 348 349 350 351 352 353 354 355 356 357 358 359\n",
      " 360 361 362 363 364 365 366 367 368 369 370 371 372 373 374 375 376 377\n",
      " 378 379 380 381 382 383 384 385 386 387 388 389 390 391 392 393 394 395\n",
      " 396 397 398 399] TEST: [400 401 402 403 404 405 406 407 408 409 410 411 412 413 414 415 416 417\n",
      " 418 419 420 421 422 423 424 425 426 427 428 429 430 431 432 433 434 435\n",
      " 436 437 438 439 440 441 442 443 444 445 446 447 448 449 450 451 452 453\n",
      " 454 455 456 457 458 459 460 461 462 463 464 465 466 467 468 469 470 471\n",
      " 472 473 474 475 476 477 478 479 480 481 482 483 484 485 486 487 488 489\n",
      " 490 491 492 493 494 495 496 497 498 499]\n"
     ]
    }
   ],
   "source": [
    "#Simulating dividing in 5 folds data with 25 rercods\n",
    "from sklearn.model_selection import KFold\n",
    "kf = KFold(n_splits=5)\n",
    "for train_index, test_index in kf.split(X):\n",
    "     print(\"TRAIN:\", train_index, \"TEST:\", test_index)\n",
    "     X_train, X_test = X[train_index], X[test_index]\n",
    "     y_train, y_test = y[train_index], y[test_index]\n"
   ]
  },
  {
   "cell_type": "markdown",
   "metadata": {},
   "source": [
    "\n",
    "- A fold cannot be in test and train at the same time\n"
   ]
  },
  {
   "cell_type": "markdown",
   "metadata": {},
   "source": [
    "**Comparando train/test split vs. Cross-Validation**\n",
    "\n",
    "Cross validation dvantages:\n",
    "- More precise accuracy information out of test sample\n",
    "- More efficiente use of data\n",
    "\n",
    "train/test split advantages:\n",
    "- Runs K times faster than K-fold cross-validation\n",
    "- Easier to examinate detailed results of the process\n",
    "\n",
    "**Recomendations**\n",
    "\n",
    "- K = 10 reccomended\n",
    "- For classification models, stratified sampling is reccomended\n",
    "\n"
   ]
  },
  {
   "cell_type": "markdown",
   "metadata": {},
   "source": [
    "### Example: model selection\n",
    "\n",
    "Compare best KNN model versus logistic regression"
   ]
  },
  {
   "cell_type": "code",
   "execution_count": 64,
   "metadata": {},
   "outputs": [
    {
     "name": "stdout",
     "output_type": "stream",
     "text": [
      "0.514\n"
     ]
    }
   ],
   "source": [
    "#10-fold cross-validation with best KNN model\n",
    "\n",
    "#KNN\n",
    "from sklearn.model_selection import cross_val_score\n",
    "#Intialize model\n",
    "knn = KNeighborsClassifier(n_neighbors=3)\n",
    "print(cross_val_score(knn, X, y, cv=10, scoring='accuracy').mean())"
   ]
  },
  {
   "cell_type": "code",
   "execution_count": 65,
   "metadata": {
    "scrolled": true
   },
   "outputs": [
    {
     "name": "stdout",
     "output_type": "stream",
     "text": [
      "0.51\n"
     ]
    }
   ],
   "source": [
    "#10-fold cross-validation with logistic regression\n",
    "logistic = LogisticRegression()\n",
    "print(cross_val_score(logistic, X, y, cv=10, scoring='accuracy').mean())"
   ]
  },
  {
   "cell_type": "markdown",
   "metadata": {},
   "source": [
    "KNN is better model fot this data\n",
    "\n",
    "### Example: FEature selection\n",
    "\n",
    "Regression model\n"
   ]
  },
  {
   "cell_type": "code",
   "execution_count": 66,
   "metadata": {},
   "outputs": [
    {
     "data": {
      "text/html": [
       "<div>\n",
       "<style scoped>\n",
       "    .dataframe tbody tr th:only-of-type {\n",
       "        vertical-align: middle;\n",
       "    }\n",
       "\n",
       "    .dataframe tbody tr th {\n",
       "        vertical-align: top;\n",
       "    }\n",
       "\n",
       "    .dataframe thead th {\n",
       "        text-align: right;\n",
       "    }\n",
       "</style>\n",
       "<table border=\"1\" class=\"dataframe\">\n",
       "  <thead>\n",
       "    <tr style=\"text-align: right;\">\n",
       "      <th></th>\n",
       "      <th>Unnamed: 0</th>\n",
       "      <th>TV</th>\n",
       "      <th>Radio</th>\n",
       "      <th>Newspaper</th>\n",
       "      <th>Sales</th>\n",
       "    </tr>\n",
       "  </thead>\n",
       "  <tbody>\n",
       "    <tr>\n",
       "      <th>0</th>\n",
       "      <td>1</td>\n",
       "      <td>230.1</td>\n",
       "      <td>37.8</td>\n",
       "      <td>69.2</td>\n",
       "      <td>22.1</td>\n",
       "    </tr>\n",
       "    <tr>\n",
       "      <th>1</th>\n",
       "      <td>2</td>\n",
       "      <td>44.5</td>\n",
       "      <td>39.3</td>\n",
       "      <td>45.1</td>\n",
       "      <td>10.4</td>\n",
       "    </tr>\n",
       "    <tr>\n",
       "      <th>2</th>\n",
       "      <td>3</td>\n",
       "      <td>17.2</td>\n",
       "      <td>45.9</td>\n",
       "      <td>69.3</td>\n",
       "      <td>9.3</td>\n",
       "    </tr>\n",
       "    <tr>\n",
       "      <th>3</th>\n",
       "      <td>4</td>\n",
       "      <td>151.5</td>\n",
       "      <td>41.3</td>\n",
       "      <td>58.5</td>\n",
       "      <td>18.5</td>\n",
       "    </tr>\n",
       "    <tr>\n",
       "      <th>4</th>\n",
       "      <td>5</td>\n",
       "      <td>180.8</td>\n",
       "      <td>10.8</td>\n",
       "      <td>58.4</td>\n",
       "      <td>12.9</td>\n",
       "    </tr>\n",
       "  </tbody>\n",
       "</table>\n",
       "</div>"
      ],
      "text/plain": [
       "   Unnamed: 0     TV  Radio  Newspaper  Sales\n",
       "0           1  230.1   37.8       69.2   22.1\n",
       "1           2   44.5   39.3       45.1   10.4\n",
       "2           3   17.2   45.9       69.3    9.3\n",
       "3           4  151.5   41.3       58.5   18.5\n",
       "4           5  180.8   10.8       58.4   12.9"
      ]
     },
     "execution_count": 66,
     "metadata": {},
     "output_type": "execute_result"
    }
   ],
   "source": [
    "#cargar datos\n",
    "ad = pd.read_csv('Advertising.csv')\n",
    "ad.head()"
   ]
  },
  {
   "cell_type": "code",
   "execution_count": 67,
   "metadata": {},
   "outputs": [],
   "source": [
    "#3 variablke list\n",
    "cols = ['TV', 'Radio','Newspaper']\n",
    "\n",
    "# Split X and y\n",
    "X = ad[cols]\n",
    "y=ad.Sales"
   ]
  },
  {
   "cell_type": "code",
   "execution_count": 68,
   "metadata": {},
   "outputs": [
    {
     "name": "stdout",
     "output_type": "stream",
     "text": [
      "[1.88689808 1.81595022 1.44548731 1.68069713 1.14139187 1.31971064\n",
      " 2.85891276 1.45399362 1.7443426  1.56614748]\n"
     ]
    }
   ],
   "source": [
    "#10 fold cross validation with 3 variables for lineal regression\n",
    "from sklearn.linear_model import LinearRegression\n",
    "from sklearn.metrics import mean_squared_error\n",
    "\n",
    "#Model\n",
    "lm=LinearRegression()\n",
    "\n",
    "#Cross validation\n",
    "scores = cross_val_score(lm, X,y, cv=10,  scoring='neg_root_mean_squared_error') #cross_val_score(model, X,y, cv=folds,  scoring='metric')\n",
    "\n",
    "print(scores*-1)"
   ]
  },
  {
   "cell_type": "code",
   "execution_count": 69,
   "metadata": {},
   "outputs": [],
   "source": [
    "rmse = scores*-1"
   ]
  },
  {
   "cell_type": "code",
   "execution_count": 70,
   "metadata": {},
   "outputs": [
    {
     "name": "stdout",
     "output_type": "stream",
     "text": [
      "1.6913531708051799\n"
     ]
    }
   ],
   "source": [
    "#RMSE --> MSE\n",
    "print(rmse.mean())"
   ]
  },
  {
   "cell_type": "code",
   "execution_count": 71,
   "metadata": {},
   "outputs": [
    {
     "name": "stdout",
     "output_type": "stream",
     "text": [
      "1.6796748419090766\n"
     ]
    }
   ],
   "source": [
    "#10 fold cross validation with 2 variables without newspapes\n",
    "cols = ['TV', 'Radio']\n",
    "\n",
    "#Separar X y Y\n",
    "X = ad[cols]\n",
    "y=ad.Sales\n",
    "\n",
    "print( (-cross_val_score(lm, X,y, cv=10,  scoring='neg_root_mean_squared_error')).mean())\n"
   ]
  },
  {
   "cell_type": "markdown",
   "metadata": {},
   "source": [
    "Because RMSE is a metric we want to lower, the model without using \"newspaper\" variable is better"
   ]
  },
  {
   "cell_type": "markdown",
   "metadata": {},
   "source": [
    "#### Non manual feature selection\n"
   ]
  },
  {
   "cell_type": "code",
   "execution_count": 72,
   "metadata": {},
   "outputs": [],
   "source": [
    "import matplotlib.pyplot as plt\n",
    "import seaborn as sns\n",
    "\n",
    "import sklearn\n",
    "from sklearn.ensemble import GradientBoostingClassifier\n",
    "from sklearn.model_selection import cross_val_score\n",
    "from sklearn.feature_selection import SelectKBest, f_regression\n",
    "np.random.seed(6450345)"
   ]
  },
  {
   "cell_type": "code",
   "execution_count": 73,
   "metadata": {},
   "outputs": [
    {
     "name": "stdout",
     "output_type": "stream",
     "text": [
      "Scores on each subset:\n",
      "[0.6025 0.63   0.625  0.63   0.6325]\n",
      "Average score and uncertainty: (62.40 +- 0.493)%\n"
     ]
    }
   ],
   "source": [
    "\n",
    "#First we select variables, then train the model\n",
    "#Data creation\n",
    "def make_data(N=1000, n_vars=10,\n",
    "              n_classes=2):\n",
    "    X = np.random.normal(size=(N,n_vars))\n",
    "    y = np.random.choice(n_classes, N)\n",
    "    \n",
    "    return X, y\n",
    "\n",
    "X,y = make_data(N=2000, n_vars=50000)\n",
    "\n",
    "\n",
    "# Select 20 features with most correlation\n",
    "select = SelectKBest(f_regression, k=20)\n",
    "X_selected = select.fit_transform(X,y)\n",
    "\n",
    "#Create model\n",
    "clf = GradientBoostingClassifier()\n",
    "scores = cross_val_score(clf, X_selected, y, cv=5)\n",
    "\n",
    "print (\"Scores on each subset:\")\n",
    "print(scores)\n",
    "avg = (100*np.mean(scores), 100*np.std(scores)/np.sqrt(scores.shape[0]))\n",
    "print(\"Average score and uncertainty: (%.2f +- %.3f)%%\"%avg)"
   ]
  },
  {
   "cell_type": "code",
   "execution_count": 74,
   "metadata": {},
   "outputs": [
    {
     "name": "stdout",
     "output_type": "stream",
     "text": [
      "Scores on each subset:\n",
      "[0.5325 0.4975 0.525  0.465  0.53  ]\n",
      "Average score and uncertainty: (51.00 +- 1.151)%\n"
     ]
    }
   ],
   "source": [
    "#HOW ITS DONE\n",
    "#Split train test in each fold\n",
    "#select variables\n",
    "\n",
    "from sklearn.pipeline import make_pipeline\n",
    "\n",
    "clf = make_pipeline(SelectKBest(f_regression, k=20),\n",
    "                    GradientBoostingClassifier())\n",
    "\n",
    "scores = cross_val_score(clf, X, y, cv=5)\n",
    "\n",
    "print(\"Scores on each subset:\")\n",
    "print(scores)\n",
    "avg = (100*np.mean(scores), 100*np.std(scores)/np.sqrt(scores.shape[0]))\n",
    "print(\"Average score and uncertainty: (%.2f +- %.3f)%%\"%avg)"
   ]
  },
  {
   "cell_type": "markdown",
   "metadata": {},
   "source": [
    "### References\n",
    "\n",
    "https://scikit-learn.org/stable/modules/generated/sklearn.model_selection.train_test_split.html"
   ]
  },
  {
   "cell_type": "markdown",
   "metadata": {},
   "source": []
  }
 ],
 "metadata": {
  "kernelspec": {
   "display_name": "Python 3 (ipykernel)",
   "language": "python",
   "name": "python3"
  },
  "language_info": {
   "codemirror_mode": {
    "name": "ipython",
    "version": 3
   },
   "file_extension": ".py",
   "mimetype": "text/x-python",
   "name": "python",
   "nbconvert_exporter": "python",
   "pygments_lexer": "ipython3",
   "version": "3.11.4"
  }
 },
 "nbformat": 4,
 "nbformat_minor": 4
}
